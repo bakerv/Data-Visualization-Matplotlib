{
 "cells": [
  {
   "cell_type": "markdown",
   "id": "749eda24",
   "metadata": {},
   "source": [
    "## Overall Analysis\n",
    "\n",
    "Two drugs, Capomulin and Ramicane, show promise as drug treatments. \n",
    "\n",
    "Mice treated with these drugs have far greater survival rate than those treated with a placebo.\n",
    "#\n",
    "![Cohort Survival Rates](https://github.com/bakerv/Matplotlib-challenge/blob/main/Images/SurvivalRatesStackedBar.png)\n",
    "\n",
    "Additionally, both drugs have demonstrated the ability to not only suppress tumor growth, but decrease tumor size. \n",
    "#\n",
    "![Final Tumor Volume Distribution](https://github.com/bakerv/Matplotlib-challenge/blob/main/Images/TumorSizeBoxPlot.png)\n",
    "\n",
    "Both drugs had a median tumor volume, for the cohorts as a whole, that was less than the initial tumor volume. Indeed, 75% of mice in these cohorts showed a decrease in tumor size.\n",
    "\n",
    "I recommend conducting further studies on thes\n",
    "\n",
    "Tumors in mice treated by capomulin appear to be of relatively consistant density. Although weight of the individual mice, not including their tumors, is likely to be a large contributing factor to this measurement.\n",
    "\n",
    "Data entry protocols should be reviewed, and measures implemented, to prevent duplicate data entrys from being submitted. Data on mouse g989 had to be removed from the study because of this.\n",
    "\n"
   ]
  },
  {
   "cell_type": "code",
   "execution_count": 420,
   "id": "9fd69e59",
   "metadata": {},
   "outputs": [],
   "source": [
    "# import dependencies\n",
    "import matplotlib.pyplot as plt\n",
    "import pandas as pd\n",
    "import numpy as np\n",
    "import scipy.stats as st"
   ]
  },
  {
   "cell_type": "code",
   "execution_count": 421,
   "id": "abe8b2d7",
   "metadata": {},
   "outputs": [],
   "source": [
    "# Read in the data \n",
    "mousedata_path = \"Data\\\\Mouse_metadata.csv\"\n",
    "studydata_path = \"Data\\\\Study_results.csv\"\n",
    "micedata = pd.read_csv(mousedata_path)\n",
    "studydata = pd.read_csv(studydata_path)"
   ]
  },
  {
   "cell_type": "markdown",
   "id": "38eb15aa",
   "metadata": {},
   "source": [
    "## **Data Samples**"
   ]
  },
  {
   "cell_type": "markdown",
   "id": "06c88fae",
   "metadata": {},
   "source": [
    "#### Mouse_metadata.csv"
   ]
  },
  {
   "cell_type": "code",
   "execution_count": 422,
   "id": "7d3120de",
   "metadata": {},
   "outputs": [
    {
     "data": {
      "text/html": [
       "<div>\n",
       "<style scoped>\n",
       "    .dataframe tbody tr th:only-of-type {\n",
       "        vertical-align: middle;\n",
       "    }\n",
       "\n",
       "    .dataframe tbody tr th {\n",
       "        vertical-align: top;\n",
       "    }\n",
       "\n",
       "    .dataframe thead th {\n",
       "        text-align: right;\n",
       "    }\n",
       "</style>\n",
       "<table border=\"1\" class=\"dataframe\">\n",
       "  <thead>\n",
       "    <tr style=\"text-align: right;\">\n",
       "      <th></th>\n",
       "      <th>Mouse ID</th>\n",
       "      <th>Drug Regimen</th>\n",
       "      <th>Sex</th>\n",
       "      <th>Age_months</th>\n",
       "      <th>Weight (g)</th>\n",
       "    </tr>\n",
       "  </thead>\n",
       "  <tbody>\n",
       "    <tr>\n",
       "      <th>0</th>\n",
       "      <td>k403</td>\n",
       "      <td>Ramicane</td>\n",
       "      <td>Male</td>\n",
       "      <td>21</td>\n",
       "      <td>16</td>\n",
       "    </tr>\n",
       "    <tr>\n",
       "      <th>1</th>\n",
       "      <td>s185</td>\n",
       "      <td>Capomulin</td>\n",
       "      <td>Female</td>\n",
       "      <td>3</td>\n",
       "      <td>17</td>\n",
       "    </tr>\n",
       "    <tr>\n",
       "      <th>2</th>\n",
       "      <td>x401</td>\n",
       "      <td>Capomulin</td>\n",
       "      <td>Female</td>\n",
       "      <td>16</td>\n",
       "      <td>15</td>\n",
       "    </tr>\n",
       "    <tr>\n",
       "      <th>3</th>\n",
       "      <td>m601</td>\n",
       "      <td>Capomulin</td>\n",
       "      <td>Male</td>\n",
       "      <td>22</td>\n",
       "      <td>17</td>\n",
       "    </tr>\n",
       "    <tr>\n",
       "      <th>4</th>\n",
       "      <td>g791</td>\n",
       "      <td>Ramicane</td>\n",
       "      <td>Male</td>\n",
       "      <td>11</td>\n",
       "      <td>16</td>\n",
       "    </tr>\n",
       "    <tr>\n",
       "      <th>...</th>\n",
       "      <td>...</td>\n",
       "      <td>...</td>\n",
       "      <td>...</td>\n",
       "      <td>...</td>\n",
       "      <td>...</td>\n",
       "    </tr>\n",
       "    <tr>\n",
       "      <th>244</th>\n",
       "      <td>z314</td>\n",
       "      <td>Stelasyn</td>\n",
       "      <td>Female</td>\n",
       "      <td>21</td>\n",
       "      <td>28</td>\n",
       "    </tr>\n",
       "    <tr>\n",
       "      <th>245</th>\n",
       "      <td>z435</td>\n",
       "      <td>Propriva</td>\n",
       "      <td>Female</td>\n",
       "      <td>12</td>\n",
       "      <td>26</td>\n",
       "    </tr>\n",
       "    <tr>\n",
       "      <th>246</th>\n",
       "      <td>z581</td>\n",
       "      <td>Infubinol</td>\n",
       "      <td>Female</td>\n",
       "      <td>24</td>\n",
       "      <td>25</td>\n",
       "    </tr>\n",
       "    <tr>\n",
       "      <th>247</th>\n",
       "      <td>z795</td>\n",
       "      <td>Naftisol</td>\n",
       "      <td>Female</td>\n",
       "      <td>13</td>\n",
       "      <td>29</td>\n",
       "    </tr>\n",
       "    <tr>\n",
       "      <th>248</th>\n",
       "      <td>z969</td>\n",
       "      <td>Naftisol</td>\n",
       "      <td>Male</td>\n",
       "      <td>9</td>\n",
       "      <td>30</td>\n",
       "    </tr>\n",
       "  </tbody>\n",
       "</table>\n",
       "<p>249 rows × 5 columns</p>\n",
       "</div>"
      ],
      "text/plain": [
       "    Mouse ID Drug Regimen     Sex  Age_months  Weight (g)\n",
       "0       k403     Ramicane    Male          21          16\n",
       "1       s185    Capomulin  Female           3          17\n",
       "2       x401    Capomulin  Female          16          15\n",
       "3       m601    Capomulin    Male          22          17\n",
       "4       g791     Ramicane    Male          11          16\n",
       "..       ...          ...     ...         ...         ...\n",
       "244     z314     Stelasyn  Female          21          28\n",
       "245     z435     Propriva  Female          12          26\n",
       "246     z581    Infubinol  Female          24          25\n",
       "247     z795     Naftisol  Female          13          29\n",
       "248     z969     Naftisol    Male           9          30\n",
       "\n",
       "[249 rows x 5 columns]"
      ]
     },
     "execution_count": 422,
     "metadata": {},
     "output_type": "execute_result"
    }
   ],
   "source": [
    "micedata"
   ]
  },
  {
   "cell_type": "markdown",
   "id": "c6f52b97",
   "metadata": {},
   "source": [
    "#### Study_results.csv"
   ]
  },
  {
   "cell_type": "code",
   "execution_count": 423,
   "id": "a1f16c26",
   "metadata": {},
   "outputs": [
    {
     "data": {
      "text/html": [
       "<div>\n",
       "<style scoped>\n",
       "    .dataframe tbody tr th:only-of-type {\n",
       "        vertical-align: middle;\n",
       "    }\n",
       "\n",
       "    .dataframe tbody tr th {\n",
       "        vertical-align: top;\n",
       "    }\n",
       "\n",
       "    .dataframe thead th {\n",
       "        text-align: right;\n",
       "    }\n",
       "</style>\n",
       "<table border=\"1\" class=\"dataframe\">\n",
       "  <thead>\n",
       "    <tr style=\"text-align: right;\">\n",
       "      <th></th>\n",
       "      <th>Mouse ID</th>\n",
       "      <th>Timepoint</th>\n",
       "      <th>Tumor Volume (mm3)</th>\n",
       "      <th>Metastatic Sites</th>\n",
       "    </tr>\n",
       "  </thead>\n",
       "  <tbody>\n",
       "    <tr>\n",
       "      <th>0</th>\n",
       "      <td>b128</td>\n",
       "      <td>0</td>\n",
       "      <td>45.000000</td>\n",
       "      <td>0</td>\n",
       "    </tr>\n",
       "    <tr>\n",
       "      <th>1</th>\n",
       "      <td>f932</td>\n",
       "      <td>0</td>\n",
       "      <td>45.000000</td>\n",
       "      <td>0</td>\n",
       "    </tr>\n",
       "    <tr>\n",
       "      <th>2</th>\n",
       "      <td>g107</td>\n",
       "      <td>0</td>\n",
       "      <td>45.000000</td>\n",
       "      <td>0</td>\n",
       "    </tr>\n",
       "    <tr>\n",
       "      <th>3</th>\n",
       "      <td>a457</td>\n",
       "      <td>0</td>\n",
       "      <td>45.000000</td>\n",
       "      <td>0</td>\n",
       "    </tr>\n",
       "    <tr>\n",
       "      <th>4</th>\n",
       "      <td>c819</td>\n",
       "      <td>0</td>\n",
       "      <td>45.000000</td>\n",
       "      <td>0</td>\n",
       "    </tr>\n",
       "    <tr>\n",
       "      <th>...</th>\n",
       "      <td>...</td>\n",
       "      <td>...</td>\n",
       "      <td>...</td>\n",
       "      <td>...</td>\n",
       "    </tr>\n",
       "    <tr>\n",
       "      <th>1888</th>\n",
       "      <td>r944</td>\n",
       "      <td>45</td>\n",
       "      <td>41.581521</td>\n",
       "      <td>2</td>\n",
       "    </tr>\n",
       "    <tr>\n",
       "      <th>1889</th>\n",
       "      <td>u364</td>\n",
       "      <td>45</td>\n",
       "      <td>31.023923</td>\n",
       "      <td>3</td>\n",
       "    </tr>\n",
       "    <tr>\n",
       "      <th>1890</th>\n",
       "      <td>p438</td>\n",
       "      <td>45</td>\n",
       "      <td>61.433892</td>\n",
       "      <td>1</td>\n",
       "    </tr>\n",
       "    <tr>\n",
       "      <th>1891</th>\n",
       "      <td>x773</td>\n",
       "      <td>45</td>\n",
       "      <td>58.634971</td>\n",
       "      <td>4</td>\n",
       "    </tr>\n",
       "    <tr>\n",
       "      <th>1892</th>\n",
       "      <td>b879</td>\n",
       "      <td>45</td>\n",
       "      <td>72.555239</td>\n",
       "      <td>2</td>\n",
       "    </tr>\n",
       "  </tbody>\n",
       "</table>\n",
       "<p>1893 rows × 4 columns</p>\n",
       "</div>"
      ],
      "text/plain": [
       "     Mouse ID  Timepoint  Tumor Volume (mm3)  Metastatic Sites\n",
       "0        b128          0           45.000000                 0\n",
       "1        f932          0           45.000000                 0\n",
       "2        g107          0           45.000000                 0\n",
       "3        a457          0           45.000000                 0\n",
       "4        c819          0           45.000000                 0\n",
       "...       ...        ...                 ...               ...\n",
       "1888     r944         45           41.581521                 2\n",
       "1889     u364         45           31.023923                 3\n",
       "1890     p438         45           61.433892                 1\n",
       "1891     x773         45           58.634971                 4\n",
       "1892     b879         45           72.555239                 2\n",
       "\n",
       "[1893 rows x 4 columns]"
      ]
     },
     "execution_count": 423,
     "metadata": {},
     "output_type": "execute_result"
    }
   ],
   "source": [
    "studydata"
   ]
  },
  {
   "cell_type": "markdown",
   "id": "200c73fc",
   "metadata": {},
   "source": [
    "#### To facilitate analysis, the two tables are merged. Unique information for each Mouse ID  is taken from the micedata table, and added to the to the studydata table."
   ]
  },
  {
   "cell_type": "code",
   "execution_count": 424,
   "id": "3aa59ec0",
   "metadata": {},
   "outputs": [
    {
     "data": {
      "text/html": [
       "<div>\n",
       "<style scoped>\n",
       "    .dataframe tbody tr th:only-of-type {\n",
       "        vertical-align: middle;\n",
       "    }\n",
       "\n",
       "    .dataframe tbody tr th {\n",
       "        vertical-align: top;\n",
       "    }\n",
       "\n",
       "    .dataframe thead th {\n",
       "        text-align: right;\n",
       "    }\n",
       "</style>\n",
       "<table border=\"1\" class=\"dataframe\">\n",
       "  <thead>\n",
       "    <tr style=\"text-align: right;\">\n",
       "      <th></th>\n",
       "      <th>Mouse ID</th>\n",
       "      <th>Drug Regimen</th>\n",
       "      <th>Sex</th>\n",
       "      <th>Age_months</th>\n",
       "      <th>Weight (g)</th>\n",
       "      <th>Time (days)</th>\n",
       "      <th>Tumor Volume (mm3)</th>\n",
       "      <th>Metastatic Sites</th>\n",
       "    </tr>\n",
       "  </thead>\n",
       "  <tbody>\n",
       "    <tr>\n",
       "      <th>0</th>\n",
       "      <td>b128</td>\n",
       "      <td>Capomulin</td>\n",
       "      <td>Female</td>\n",
       "      <td>9</td>\n",
       "      <td>22</td>\n",
       "      <td>0</td>\n",
       "      <td>45.000000</td>\n",
       "      <td>0</td>\n",
       "    </tr>\n",
       "    <tr>\n",
       "      <th>1</th>\n",
       "      <td>f932</td>\n",
       "      <td>Ketapril</td>\n",
       "      <td>Male</td>\n",
       "      <td>15</td>\n",
       "      <td>29</td>\n",
       "      <td>0</td>\n",
       "      <td>45.000000</td>\n",
       "      <td>0</td>\n",
       "    </tr>\n",
       "    <tr>\n",
       "      <th>2</th>\n",
       "      <td>g107</td>\n",
       "      <td>Ketapril</td>\n",
       "      <td>Female</td>\n",
       "      <td>2</td>\n",
       "      <td>29</td>\n",
       "      <td>0</td>\n",
       "      <td>45.000000</td>\n",
       "      <td>0</td>\n",
       "    </tr>\n",
       "    <tr>\n",
       "      <th>3</th>\n",
       "      <td>a457</td>\n",
       "      <td>Ketapril</td>\n",
       "      <td>Female</td>\n",
       "      <td>11</td>\n",
       "      <td>30</td>\n",
       "      <td>0</td>\n",
       "      <td>45.000000</td>\n",
       "      <td>0</td>\n",
       "    </tr>\n",
       "    <tr>\n",
       "      <th>4</th>\n",
       "      <td>c819</td>\n",
       "      <td>Ketapril</td>\n",
       "      <td>Male</td>\n",
       "      <td>21</td>\n",
       "      <td>25</td>\n",
       "      <td>0</td>\n",
       "      <td>45.000000</td>\n",
       "      <td>0</td>\n",
       "    </tr>\n",
       "    <tr>\n",
       "      <th>...</th>\n",
       "      <td>...</td>\n",
       "      <td>...</td>\n",
       "      <td>...</td>\n",
       "      <td>...</td>\n",
       "      <td>...</td>\n",
       "      <td>...</td>\n",
       "      <td>...</td>\n",
       "      <td>...</td>\n",
       "    </tr>\n",
       "    <tr>\n",
       "      <th>1888</th>\n",
       "      <td>r944</td>\n",
       "      <td>Capomulin</td>\n",
       "      <td>Male</td>\n",
       "      <td>12</td>\n",
       "      <td>25</td>\n",
       "      <td>45</td>\n",
       "      <td>41.581521</td>\n",
       "      <td>2</td>\n",
       "    </tr>\n",
       "    <tr>\n",
       "      <th>1889</th>\n",
       "      <td>u364</td>\n",
       "      <td>Capomulin</td>\n",
       "      <td>Male</td>\n",
       "      <td>18</td>\n",
       "      <td>17</td>\n",
       "      <td>45</td>\n",
       "      <td>31.023923</td>\n",
       "      <td>3</td>\n",
       "    </tr>\n",
       "    <tr>\n",
       "      <th>1890</th>\n",
       "      <td>p438</td>\n",
       "      <td>Ceftamin</td>\n",
       "      <td>Female</td>\n",
       "      <td>11</td>\n",
       "      <td>26</td>\n",
       "      <td>45</td>\n",
       "      <td>61.433892</td>\n",
       "      <td>1</td>\n",
       "    </tr>\n",
       "    <tr>\n",
       "      <th>1891</th>\n",
       "      <td>x773</td>\n",
       "      <td>Placebo</td>\n",
       "      <td>Female</td>\n",
       "      <td>21</td>\n",
       "      <td>30</td>\n",
       "      <td>45</td>\n",
       "      <td>58.634971</td>\n",
       "      <td>4</td>\n",
       "    </tr>\n",
       "    <tr>\n",
       "      <th>1892</th>\n",
       "      <td>b879</td>\n",
       "      <td>Stelasyn</td>\n",
       "      <td>Female</td>\n",
       "      <td>4</td>\n",
       "      <td>26</td>\n",
       "      <td>45</td>\n",
       "      <td>72.555239</td>\n",
       "      <td>2</td>\n",
       "    </tr>\n",
       "  </tbody>\n",
       "</table>\n",
       "<p>1893 rows × 8 columns</p>\n",
       "</div>"
      ],
      "text/plain": [
       "     Mouse ID Drug Regimen     Sex  Age_months  Weight (g)  Time (days)  \\\n",
       "0        b128    Capomulin  Female           9          22            0   \n",
       "1        f932     Ketapril    Male          15          29            0   \n",
       "2        g107     Ketapril  Female           2          29            0   \n",
       "3        a457     Ketapril  Female          11          30            0   \n",
       "4        c819     Ketapril    Male          21          25            0   \n",
       "...       ...          ...     ...         ...         ...          ...   \n",
       "1888     r944    Capomulin    Male          12          25           45   \n",
       "1889     u364    Capomulin    Male          18          17           45   \n",
       "1890     p438     Ceftamin  Female          11          26           45   \n",
       "1891     x773      Placebo  Female          21          30           45   \n",
       "1892     b879     Stelasyn  Female           4          26           45   \n",
       "\n",
       "      Tumor Volume (mm3)  Metastatic Sites  \n",
       "0              45.000000                 0  \n",
       "1              45.000000                 0  \n",
       "2              45.000000                 0  \n",
       "3              45.000000                 0  \n",
       "4              45.000000                 0  \n",
       "...                  ...               ...  \n",
       "1888           41.581521                 2  \n",
       "1889           31.023923                 3  \n",
       "1890           61.433892                 1  \n",
       "1891           58.634971                 4  \n",
       "1892           72.555239                 2  \n",
       "\n",
       "[1893 rows x 8 columns]"
      ]
     },
     "metadata": {},
     "output_type": "display_data"
    }
   ],
   "source": [
    "rawdata = pd.merge(micedata,studydata, on=\"Mouse ID\", how=\"right\").rename(columns={\"Timepoint\": \"Time (days)\"})\n",
    "display(rawdata)"
   ]
  },
  {
   "cell_type": "markdown",
   "id": "d581fd05",
   "metadata": {},
   "source": [
    "## **Data Cleaning**"
   ]
  },
  {
   "cell_type": "code",
   "execution_count": 425,
   "id": "bfa9cc45",
   "metadata": {},
   "outputs": [
    {
     "data": {
      "text/html": [
       "<div>\n",
       "<style scoped>\n",
       "    .dataframe tbody tr th:only-of-type {\n",
       "        vertical-align: middle;\n",
       "    }\n",
       "\n",
       "    .dataframe tbody tr th {\n",
       "        vertical-align: top;\n",
       "    }\n",
       "\n",
       "    .dataframe thead th {\n",
       "        text-align: right;\n",
       "    }\n",
       "</style>\n",
       "<table border=\"1\" class=\"dataframe\">\n",
       "  <thead>\n",
       "    <tr style=\"text-align: right;\">\n",
       "      <th></th>\n",
       "      <th>Age_months</th>\n",
       "      <th>Weight (g)</th>\n",
       "      <th>Time (days)</th>\n",
       "      <th>Tumor Volume (mm3)</th>\n",
       "      <th>Metastatic Sites</th>\n",
       "    </tr>\n",
       "  </thead>\n",
       "  <tbody>\n",
       "    <tr>\n",
       "      <th>count</th>\n",
       "      <td>1893.000000</td>\n",
       "      <td>1893.000000</td>\n",
       "      <td>1893.000000</td>\n",
       "      <td>1893.000000</td>\n",
       "      <td>1893.000000</td>\n",
       "    </tr>\n",
       "    <tr>\n",
       "      <th>mean</th>\n",
       "      <td>12.814580</td>\n",
       "      <td>25.662441</td>\n",
       "      <td>19.572108</td>\n",
       "      <td>50.448381</td>\n",
       "      <td>1.021659</td>\n",
       "    </tr>\n",
       "    <tr>\n",
       "      <th>std</th>\n",
       "      <td>7.189592</td>\n",
       "      <td>3.921622</td>\n",
       "      <td>14.079460</td>\n",
       "      <td>8.894722</td>\n",
       "      <td>1.137974</td>\n",
       "    </tr>\n",
       "    <tr>\n",
       "      <th>min</th>\n",
       "      <td>1.000000</td>\n",
       "      <td>15.000000</td>\n",
       "      <td>0.000000</td>\n",
       "      <td>22.050126</td>\n",
       "      <td>0.000000</td>\n",
       "    </tr>\n",
       "    <tr>\n",
       "      <th>25%</th>\n",
       "      <td>7.000000</td>\n",
       "      <td>25.000000</td>\n",
       "      <td>5.000000</td>\n",
       "      <td>45.000000</td>\n",
       "      <td>0.000000</td>\n",
       "    </tr>\n",
       "    <tr>\n",
       "      <th>50%</th>\n",
       "      <td>13.000000</td>\n",
       "      <td>27.000000</td>\n",
       "      <td>20.000000</td>\n",
       "      <td>48.951474</td>\n",
       "      <td>1.000000</td>\n",
       "    </tr>\n",
       "    <tr>\n",
       "      <th>75%</th>\n",
       "      <td>20.000000</td>\n",
       "      <td>29.000000</td>\n",
       "      <td>30.000000</td>\n",
       "      <td>56.292200</td>\n",
       "      <td>2.000000</td>\n",
       "    </tr>\n",
       "    <tr>\n",
       "      <th>max</th>\n",
       "      <td>24.000000</td>\n",
       "      <td>30.000000</td>\n",
       "      <td>45.000000</td>\n",
       "      <td>78.567014</td>\n",
       "      <td>4.000000</td>\n",
       "    </tr>\n",
       "  </tbody>\n",
       "</table>\n",
       "</div>"
      ],
      "text/plain": [
       "        Age_months   Weight (g)  Time (days)  Tumor Volume (mm3)  \\\n",
       "count  1893.000000  1893.000000  1893.000000         1893.000000   \n",
       "mean     12.814580    25.662441    19.572108           50.448381   \n",
       "std       7.189592     3.921622    14.079460            8.894722   \n",
       "min       1.000000    15.000000     0.000000           22.050126   \n",
       "25%       7.000000    25.000000     5.000000           45.000000   \n",
       "50%      13.000000    27.000000    20.000000           48.951474   \n",
       "75%      20.000000    29.000000    30.000000           56.292200   \n",
       "max      24.000000    30.000000    45.000000           78.567014   \n",
       "\n",
       "       Metastatic Sites  \n",
       "count       1893.000000  \n",
       "mean           1.021659  \n",
       "std            1.137974  \n",
       "min            0.000000  \n",
       "25%            0.000000  \n",
       "50%            1.000000  \n",
       "75%            2.000000  \n",
       "max            4.000000  "
      ]
     },
     "metadata": {},
     "output_type": "display_data"
    },
    {
     "data": {
      "text/plain": [
       "Mouse ID               object\n",
       "Drug Regimen           object\n",
       "Sex                    object\n",
       "Age_months              int64\n",
       "Weight (g)              int64\n",
       "Time (days)             int64\n",
       "Tumor Volume (mm3)    float64\n",
       "Metastatic Sites        int64\n",
       "dtype: object"
      ]
     },
     "metadata": {},
     "output_type": "display_data"
    },
    {
     "data": {
      "text/html": [
       "<div>\n",
       "<style scoped>\n",
       "    .dataframe tbody tr th:only-of-type {\n",
       "        vertical-align: middle;\n",
       "    }\n",
       "\n",
       "    .dataframe tbody tr th {\n",
       "        vertical-align: top;\n",
       "    }\n",
       "\n",
       "    .dataframe thead th {\n",
       "        text-align: right;\n",
       "    }\n",
       "</style>\n",
       "<table border=\"1\" class=\"dataframe\">\n",
       "  <thead>\n",
       "    <tr style=\"text-align: right;\">\n",
       "      <th></th>\n",
       "      <th>0</th>\n",
       "    </tr>\n",
       "  </thead>\n",
       "  <tbody>\n",
       "    <tr>\n",
       "      <th>Mouse ID</th>\n",
       "      <td>1893</td>\n",
       "    </tr>\n",
       "    <tr>\n",
       "      <th>Drug Regimen</th>\n",
       "      <td>1893</td>\n",
       "    </tr>\n",
       "    <tr>\n",
       "      <th>Sex</th>\n",
       "      <td>1893</td>\n",
       "    </tr>\n",
       "    <tr>\n",
       "      <th>Age_months</th>\n",
       "      <td>1893</td>\n",
       "    </tr>\n",
       "    <tr>\n",
       "      <th>Weight (g)</th>\n",
       "      <td>1893</td>\n",
       "    </tr>\n",
       "    <tr>\n",
       "      <th>Time (days)</th>\n",
       "      <td>1893</td>\n",
       "    </tr>\n",
       "    <tr>\n",
       "      <th>Tumor Volume (mm3)</th>\n",
       "      <td>1893</td>\n",
       "    </tr>\n",
       "    <tr>\n",
       "      <th>Metastatic Sites</th>\n",
       "      <td>1893</td>\n",
       "    </tr>\n",
       "  </tbody>\n",
       "</table>\n",
       "</div>"
      ],
      "text/plain": [
       "                       0\n",
       "Mouse ID            1893\n",
       "Drug Regimen        1893\n",
       "Sex                 1893\n",
       "Age_months          1893\n",
       "Weight (g)          1893\n",
       "Time (days)         1893\n",
       "Tumor Volume (mm3)  1893\n",
       "Metastatic Sites    1893"
      ]
     },
     "metadata": {},
     "output_type": "display_data"
    }
   ],
   "source": [
    "display(rawdata.describe()) # Verify ability to perform numeric operations on expected columns\n",
    "display(rawdata.dtypes) # Verify data types are as expected\n",
    "display(rawdata.count().to_frame()) #Check for blanks"
   ]
  },
  {
   "cell_type": "markdown",
   "id": "f1f2650c",
   "metadata": {},
   "source": [
    " ### Check for multiple values for each mouseID/timepoint combination\n",
    " #### Multiple duplicate entries are observed for mouse ID g989. "
   ]
  },
  {
   "cell_type": "code",
   "execution_count": 426,
   "id": "6bcd7161",
   "metadata": {},
   "outputs": [
    {
     "data": {
      "text/html": [
       "<div>\n",
       "<style scoped>\n",
       "    .dataframe tbody tr th:only-of-type {\n",
       "        vertical-align: middle;\n",
       "    }\n",
       "\n",
       "    .dataframe tbody tr th {\n",
       "        vertical-align: top;\n",
       "    }\n",
       "\n",
       "    .dataframe thead th {\n",
       "        text-align: right;\n",
       "    }\n",
       "</style>\n",
       "<table border=\"1\" class=\"dataframe\">\n",
       "  <thead>\n",
       "    <tr style=\"text-align: right;\">\n",
       "      <th></th>\n",
       "      <th></th>\n",
       "      <th>Duplicates</th>\n",
       "    </tr>\n",
       "    <tr>\n",
       "      <th>Mouse ID</th>\n",
       "      <th>Time (days)</th>\n",
       "      <th></th>\n",
       "    </tr>\n",
       "  </thead>\n",
       "  <tbody>\n",
       "    <tr>\n",
       "      <th rowspan=\"5\" valign=\"top\">g989</th>\n",
       "      <th>20</th>\n",
       "      <td>2</td>\n",
       "    </tr>\n",
       "    <tr>\n",
       "      <th>15</th>\n",
       "      <td>2</td>\n",
       "    </tr>\n",
       "    <tr>\n",
       "      <th>10</th>\n",
       "      <td>2</td>\n",
       "    </tr>\n",
       "    <tr>\n",
       "      <th>5</th>\n",
       "      <td>2</td>\n",
       "    </tr>\n",
       "    <tr>\n",
       "      <th>0</th>\n",
       "      <td>2</td>\n",
       "    </tr>\n",
       "    <tr>\n",
       "      <th>...</th>\n",
       "      <th>...</th>\n",
       "      <td>...</td>\n",
       "    </tr>\n",
       "    <tr>\n",
       "      <th rowspan=\"4\" valign=\"top\">i334</th>\n",
       "      <th>20</th>\n",
       "      <td>1</td>\n",
       "    </tr>\n",
       "    <tr>\n",
       "      <th>15</th>\n",
       "      <td>1</td>\n",
       "    </tr>\n",
       "    <tr>\n",
       "      <th>10</th>\n",
       "      <td>1</td>\n",
       "    </tr>\n",
       "    <tr>\n",
       "      <th>5</th>\n",
       "      <td>1</td>\n",
       "    </tr>\n",
       "    <tr>\n",
       "      <th>z969</th>\n",
       "      <th>45</th>\n",
       "      <td>1</td>\n",
       "    </tr>\n",
       "  </tbody>\n",
       "</table>\n",
       "<p>1888 rows × 1 columns</p>\n",
       "</div>"
      ],
      "text/plain": [
       "                      Duplicates\n",
       "Mouse ID Time (days)            \n",
       "g989     20                    2\n",
       "         15                    2\n",
       "         10                    2\n",
       "         5                     2\n",
       "         0                     2\n",
       "...                          ...\n",
       "i334     20                    1\n",
       "         15                    1\n",
       "         10                    1\n",
       "         5                     1\n",
       "z969     45                    1\n",
       "\n",
       "[1888 rows x 1 columns]"
      ]
     },
     "execution_count": 426,
     "metadata": {},
     "output_type": "execute_result"
    }
   ],
   "source": [
    "(rawdata.copy()\n",
    "              .groupby([\"Mouse ID\",\"Time (days)\"])\n",
    "              .agg({\"Time (days)\":\"count\"}).rename(columns = {\"Time (days)\":\"Duplicates\"}) # Column renamed to reflect new data meaining\n",
    "              .sort_values(\"Duplicates\",ascending = False) # Sorted to make the presence of duplicates readily visible\n",
    ")"
   ]
  },
  {
   "cell_type": "markdown",
   "id": "67dcf8af",
   "metadata": {},
   "source": [
    "####  We do not know which of these data represents true measurments. To ensure the accuracy of the study, All MouseID/timepoints combinations that are not unique will be deleted."
   ]
  },
  {
   "cell_type": "code",
   "execution_count": 427,
   "id": "64d885bf",
   "metadata": {},
   "outputs": [
    {
     "data": {
      "text/html": [
       "<div>\n",
       "<style scoped>\n",
       "    .dataframe tbody tr th:only-of-type {\n",
       "        vertical-align: middle;\n",
       "    }\n",
       "\n",
       "    .dataframe tbody tr th {\n",
       "        vertical-align: top;\n",
       "    }\n",
       "\n",
       "    .dataframe thead th {\n",
       "        text-align: right;\n",
       "    }\n",
       "</style>\n",
       "<table border=\"1\" class=\"dataframe\">\n",
       "  <thead>\n",
       "    <tr style=\"text-align: right;\">\n",
       "      <th></th>\n",
       "      <th>Mouse ID</th>\n",
       "      <th>Drug Regimen</th>\n",
       "      <th>Sex</th>\n",
       "      <th>Age_months</th>\n",
       "      <th>Weight (g)</th>\n",
       "      <th>Time (days)</th>\n",
       "      <th>Tumor Volume (mm3)</th>\n",
       "      <th>Metastatic Sites</th>\n",
       "    </tr>\n",
       "  </thead>\n",
       "  <tbody>\n",
       "    <tr>\n",
       "      <th>0</th>\n",
       "      <td>b128</td>\n",
       "      <td>Capomulin</td>\n",
       "      <td>Female</td>\n",
       "      <td>9</td>\n",
       "      <td>22</td>\n",
       "      <td>0</td>\n",
       "      <td>45.000000</td>\n",
       "      <td>0</td>\n",
       "    </tr>\n",
       "    <tr>\n",
       "      <th>1</th>\n",
       "      <td>f932</td>\n",
       "      <td>Ketapril</td>\n",
       "      <td>Male</td>\n",
       "      <td>15</td>\n",
       "      <td>29</td>\n",
       "      <td>0</td>\n",
       "      <td>45.000000</td>\n",
       "      <td>0</td>\n",
       "    </tr>\n",
       "    <tr>\n",
       "      <th>2</th>\n",
       "      <td>g107</td>\n",
       "      <td>Ketapril</td>\n",
       "      <td>Female</td>\n",
       "      <td>2</td>\n",
       "      <td>29</td>\n",
       "      <td>0</td>\n",
       "      <td>45.000000</td>\n",
       "      <td>0</td>\n",
       "    </tr>\n",
       "    <tr>\n",
       "      <th>3</th>\n",
       "      <td>a457</td>\n",
       "      <td>Ketapril</td>\n",
       "      <td>Female</td>\n",
       "      <td>11</td>\n",
       "      <td>30</td>\n",
       "      <td>0</td>\n",
       "      <td>45.000000</td>\n",
       "      <td>0</td>\n",
       "    </tr>\n",
       "    <tr>\n",
       "      <th>4</th>\n",
       "      <td>c819</td>\n",
       "      <td>Ketapril</td>\n",
       "      <td>Male</td>\n",
       "      <td>21</td>\n",
       "      <td>25</td>\n",
       "      <td>0</td>\n",
       "      <td>45.000000</td>\n",
       "      <td>0</td>\n",
       "    </tr>\n",
       "    <tr>\n",
       "      <th>...</th>\n",
       "      <td>...</td>\n",
       "      <td>...</td>\n",
       "      <td>...</td>\n",
       "      <td>...</td>\n",
       "      <td>...</td>\n",
       "      <td>...</td>\n",
       "      <td>...</td>\n",
       "      <td>...</td>\n",
       "    </tr>\n",
       "    <tr>\n",
       "      <th>1888</th>\n",
       "      <td>r944</td>\n",
       "      <td>Capomulin</td>\n",
       "      <td>Male</td>\n",
       "      <td>12</td>\n",
       "      <td>25</td>\n",
       "      <td>45</td>\n",
       "      <td>41.581521</td>\n",
       "      <td>2</td>\n",
       "    </tr>\n",
       "    <tr>\n",
       "      <th>1889</th>\n",
       "      <td>u364</td>\n",
       "      <td>Capomulin</td>\n",
       "      <td>Male</td>\n",
       "      <td>18</td>\n",
       "      <td>17</td>\n",
       "      <td>45</td>\n",
       "      <td>31.023923</td>\n",
       "      <td>3</td>\n",
       "    </tr>\n",
       "    <tr>\n",
       "      <th>1890</th>\n",
       "      <td>p438</td>\n",
       "      <td>Ceftamin</td>\n",
       "      <td>Female</td>\n",
       "      <td>11</td>\n",
       "      <td>26</td>\n",
       "      <td>45</td>\n",
       "      <td>61.433892</td>\n",
       "      <td>1</td>\n",
       "    </tr>\n",
       "    <tr>\n",
       "      <th>1891</th>\n",
       "      <td>x773</td>\n",
       "      <td>Placebo</td>\n",
       "      <td>Female</td>\n",
       "      <td>21</td>\n",
       "      <td>30</td>\n",
       "      <td>45</td>\n",
       "      <td>58.634971</td>\n",
       "      <td>4</td>\n",
       "    </tr>\n",
       "    <tr>\n",
       "      <th>1892</th>\n",
       "      <td>b879</td>\n",
       "      <td>Stelasyn</td>\n",
       "      <td>Female</td>\n",
       "      <td>4</td>\n",
       "      <td>26</td>\n",
       "      <td>45</td>\n",
       "      <td>72.555239</td>\n",
       "      <td>2</td>\n",
       "    </tr>\n",
       "  </tbody>\n",
       "</table>\n",
       "<p>1880 rows × 8 columns</p>\n",
       "</div>"
      ],
      "text/plain": [
       "     Mouse ID Drug Regimen     Sex  Age_months  Weight (g)  Time (days)  \\\n",
       "0        b128    Capomulin  Female           9          22            0   \n",
       "1        f932     Ketapril    Male          15          29            0   \n",
       "2        g107     Ketapril  Female           2          29            0   \n",
       "3        a457     Ketapril  Female          11          30            0   \n",
       "4        c819     Ketapril    Male          21          25            0   \n",
       "...       ...          ...     ...         ...         ...          ...   \n",
       "1888     r944    Capomulin    Male          12          25           45   \n",
       "1889     u364    Capomulin    Male          18          17           45   \n",
       "1890     p438     Ceftamin  Female          11          26           45   \n",
       "1891     x773      Placebo  Female          21          30           45   \n",
       "1892     b879     Stelasyn  Female           4          26           45   \n",
       "\n",
       "      Tumor Volume (mm3)  Metastatic Sites  \n",
       "0              45.000000                 0  \n",
       "1              45.000000                 0  \n",
       "2              45.000000                 0  \n",
       "3              45.000000                 0  \n",
       "4              45.000000                 0  \n",
       "...                  ...               ...  \n",
       "1888           41.581521                 2  \n",
       "1889           31.023923                 3  \n",
       "1890           61.433892                 1  \n",
       "1891           58.634971                 4  \n",
       "1892           72.555239                 2  \n",
       "\n",
       "[1880 rows x 8 columns]"
      ]
     },
     "execution_count": 427,
     "metadata": {},
     "output_type": "execute_result"
    }
   ],
   "source": [
    "cleandata = rawdata.copy()[~rawdata[\"Mouse ID\"].str.contains(\"g989\")]\n",
    "cleandata"
   ]
  },
  {
   "cell_type": "markdown",
   "id": "4b332035",
   "metadata": {},
   "source": [
    "## **Data Overview**"
   ]
  },
  {
   "cell_type": "markdown",
   "id": "9681afd4",
   "metadata": {},
   "source": [
    "#### High level overview of tumor volume data"
   ]
  },
  {
   "cell_type": "code",
   "execution_count": 428,
   "id": "f0fe74a2",
   "metadata": {},
   "outputs": [
    {
     "data": {
      "text/html": [
       "<style  type=\"text/css\" >\n",
       "</style><table id=\"T_2aae0_\" ><thead>    <tr>        <th class=\"blank level0\" ></th>        <th class=\"col_heading level0 col0\" colspan=\"5\">Tumor Volume (mm3)</th>    </tr>    <tr>        <th class=\"blank level1\" ></th>        <th class=\"col_heading level1 col0\" >mean</th>        <th class=\"col_heading level1 col1\" >median</th>        <th class=\"col_heading level1 col2\" >var</th>        <th class=\"col_heading level1 col3\" >std</th>        <th class=\"col_heading level1 col4\" >sem</th>    </tr>    <tr>        <th class=\"index_name level0\" >Drug Regimen</th>        <th class=\"blank\" ></th>        <th class=\"blank\" ></th>        <th class=\"blank\" ></th>        <th class=\"blank\" ></th>        <th class=\"blank\" ></th>    </tr></thead><tbody>\n",
       "                <tr>\n",
       "                        <th id=\"T_2aae0_level0_row0\" class=\"row_heading level0 row0\" >Capomulin</th>\n",
       "                        <td id=\"T_2aae0_row0_col0\" class=\"data row0 col0\" >40.68</td>\n",
       "                        <td id=\"T_2aae0_row0_col1\" class=\"data row0 col1\" >41.56</td>\n",
       "                        <td id=\"T_2aae0_row0_col2\" class=\"data row0 col2\" >24.95</td>\n",
       "                        <td id=\"T_2aae0_row0_col3\" class=\"data row0 col3\" >4.99</td>\n",
       "                        <td id=\"T_2aae0_row0_col4\" class=\"data row0 col4\" >0.33</td>\n",
       "            </tr>\n",
       "            <tr>\n",
       "                        <th id=\"T_2aae0_level0_row1\" class=\"row_heading level0 row1\" >Ceftamin</th>\n",
       "                        <td id=\"T_2aae0_row1_col0\" class=\"data row1 col0\" >52.59</td>\n",
       "                        <td id=\"T_2aae0_row1_col1\" class=\"data row1 col1\" >51.78</td>\n",
       "                        <td id=\"T_2aae0_row1_col2\" class=\"data row1 col2\" >39.29</td>\n",
       "                        <td id=\"T_2aae0_row1_col3\" class=\"data row1 col3\" >6.27</td>\n",
       "                        <td id=\"T_2aae0_row1_col4\" class=\"data row1 col4\" >0.47</td>\n",
       "            </tr>\n",
       "            <tr>\n",
       "                        <th id=\"T_2aae0_level0_row2\" class=\"row_heading level0 row2\" >Infubinol</th>\n",
       "                        <td id=\"T_2aae0_row2_col0\" class=\"data row2 col0\" >52.88</td>\n",
       "                        <td id=\"T_2aae0_row2_col1\" class=\"data row2 col1\" >51.82</td>\n",
       "                        <td id=\"T_2aae0_row2_col2\" class=\"data row2 col2\" >43.13</td>\n",
       "                        <td id=\"T_2aae0_row2_col3\" class=\"data row2 col3\" >6.57</td>\n",
       "                        <td id=\"T_2aae0_row2_col4\" class=\"data row2 col4\" >0.49</td>\n",
       "            </tr>\n",
       "            <tr>\n",
       "                        <th id=\"T_2aae0_level0_row3\" class=\"row_heading level0 row3\" >Ketapril</th>\n",
       "                        <td id=\"T_2aae0_row3_col0\" class=\"data row3 col0\" >55.24</td>\n",
       "                        <td id=\"T_2aae0_row3_col1\" class=\"data row3 col1\" >53.70</td>\n",
       "                        <td id=\"T_2aae0_row3_col2\" class=\"data row3 col2\" >68.55</td>\n",
       "                        <td id=\"T_2aae0_row3_col3\" class=\"data row3 col3\" >8.28</td>\n",
       "                        <td id=\"T_2aae0_row3_col4\" class=\"data row3 col4\" >0.60</td>\n",
       "            </tr>\n",
       "            <tr>\n",
       "                        <th id=\"T_2aae0_level0_row4\" class=\"row_heading level0 row4\" >Naftisol</th>\n",
       "                        <td id=\"T_2aae0_row4_col0\" class=\"data row4 col0\" >54.33</td>\n",
       "                        <td id=\"T_2aae0_row4_col1\" class=\"data row4 col1\" >52.51</td>\n",
       "                        <td id=\"T_2aae0_row4_col2\" class=\"data row4 col2\" >66.17</td>\n",
       "                        <td id=\"T_2aae0_row4_col3\" class=\"data row4 col3\" >8.13</td>\n",
       "                        <td id=\"T_2aae0_row4_col4\" class=\"data row4 col4\" >0.60</td>\n",
       "            </tr>\n",
       "            <tr>\n",
       "                        <th id=\"T_2aae0_level0_row5\" class=\"row_heading level0 row5\" >Placebo</th>\n",
       "                        <td id=\"T_2aae0_row5_col0\" class=\"data row5 col0\" >54.03</td>\n",
       "                        <td id=\"T_2aae0_row5_col1\" class=\"data row5 col1\" >52.29</td>\n",
       "                        <td id=\"T_2aae0_row5_col2\" class=\"data row5 col2\" >61.17</td>\n",
       "                        <td id=\"T_2aae0_row5_col3\" class=\"data row5 col3\" >7.82</td>\n",
       "                        <td id=\"T_2aae0_row5_col4\" class=\"data row5 col4\" >0.58</td>\n",
       "            </tr>\n",
       "            <tr>\n",
       "                        <th id=\"T_2aae0_level0_row6\" class=\"row_heading level0 row6\" >Propriva</th>\n",
       "                        <td id=\"T_2aae0_row6_col0\" class=\"data row6 col0\" >52.32</td>\n",
       "                        <td id=\"T_2aae0_row6_col1\" class=\"data row6 col1\" >50.45</td>\n",
       "                        <td id=\"T_2aae0_row6_col2\" class=\"data row6 col2\" >43.85</td>\n",
       "                        <td id=\"T_2aae0_row6_col3\" class=\"data row6 col3\" >6.62</td>\n",
       "                        <td id=\"T_2aae0_row6_col4\" class=\"data row6 col4\" >0.54</td>\n",
       "            </tr>\n",
       "            <tr>\n",
       "                        <th id=\"T_2aae0_level0_row7\" class=\"row_heading level0 row7\" >Ramicane</th>\n",
       "                        <td id=\"T_2aae0_row7_col0\" class=\"data row7 col0\" >40.22</td>\n",
       "                        <td id=\"T_2aae0_row7_col1\" class=\"data row7 col1\" >40.67</td>\n",
       "                        <td id=\"T_2aae0_row7_col2\" class=\"data row7 col2\" >23.49</td>\n",
       "                        <td id=\"T_2aae0_row7_col3\" class=\"data row7 col3\" >4.85</td>\n",
       "                        <td id=\"T_2aae0_row7_col4\" class=\"data row7 col4\" >0.32</td>\n",
       "            </tr>\n",
       "            <tr>\n",
       "                        <th id=\"T_2aae0_level0_row8\" class=\"row_heading level0 row8\" >Stelasyn</th>\n",
       "                        <td id=\"T_2aae0_row8_col0\" class=\"data row8 col0\" >54.23</td>\n",
       "                        <td id=\"T_2aae0_row8_col1\" class=\"data row8 col1\" >52.43</td>\n",
       "                        <td id=\"T_2aae0_row8_col2\" class=\"data row8 col2\" >59.45</td>\n",
       "                        <td id=\"T_2aae0_row8_col3\" class=\"data row8 col3\" >7.71</td>\n",
       "                        <td id=\"T_2aae0_row8_col4\" class=\"data row8 col4\" >0.57</td>\n",
       "            </tr>\n",
       "            <tr>\n",
       "                        <th id=\"T_2aae0_level0_row9\" class=\"row_heading level0 row9\" >Zoniferol</th>\n",
       "                        <td id=\"T_2aae0_row9_col0\" class=\"data row9 col0\" >53.24</td>\n",
       "                        <td id=\"T_2aae0_row9_col1\" class=\"data row9 col1\" >51.82</td>\n",
       "                        <td id=\"T_2aae0_row9_col2\" class=\"data row9 col2\" >48.53</td>\n",
       "                        <td id=\"T_2aae0_row9_col3\" class=\"data row9 col3\" >6.97</td>\n",
       "                        <td id=\"T_2aae0_row9_col4\" class=\"data row9 col4\" >0.52</td>\n",
       "            </tr>\n",
       "    </tbody></table>"
      ],
      "text/plain": [
       "<pandas.io.formats.style.Styler at 0x2d735772580>"
      ]
     },
     "execution_count": 428,
     "metadata": {},
     "output_type": "execute_result"
    }
   ],
   "source": [
    "drugstats = (cleandata.copy().groupby(\"Drug Regimen\") # Group the data by drug regimen\n",
    "             .agg({\"Tumor Volume (mm3)\":['mean','median','var','std','sem']}) # Return statistics on tumor volume\n",
    "            )\n",
    "drugstats.style.format(\"{:.2f}\") # Improve the format of the output"
   ]
  },
  {
   "cell_type": "markdown",
   "id": "2af859ef",
   "metadata": {},
   "source": [
    "## **Cohort Survival Rates**\n",
    "### **Data Analysis**"
   ]
  },
  {
   "cell_type": "code",
   "execution_count": 429,
   "id": "39f0884a",
   "metadata": {},
   "outputs": [
    {
     "data": {
      "text/html": [
       "<div>\n",
       "<style scoped>\n",
       "    .dataframe tbody tr th:only-of-type {\n",
       "        vertical-align: middle;\n",
       "    }\n",
       "\n",
       "    .dataframe tbody tr th {\n",
       "        vertical-align: top;\n",
       "    }\n",
       "\n",
       "    .dataframe thead th {\n",
       "        text-align: right;\n",
       "    }\n",
       "</style>\n",
       "<table border=\"1\" class=\"dataframe\">\n",
       "  <thead>\n",
       "    <tr style=\"text-align: right;\">\n",
       "      <th>Drug Regimen</th>\n",
       "      <th>Capomulin</th>\n",
       "      <th>Ceftamin</th>\n",
       "      <th>Infubinol</th>\n",
       "      <th>Ketapril</th>\n",
       "      <th>Naftisol</th>\n",
       "      <th>Placebo</th>\n",
       "      <th>Propriva</th>\n",
       "      <th>Ramicane</th>\n",
       "      <th>Stelasyn</th>\n",
       "      <th>Zoniferol</th>\n",
       "    </tr>\n",
       "    <tr>\n",
       "      <th>Time (days)</th>\n",
       "      <th></th>\n",
       "      <th></th>\n",
       "      <th></th>\n",
       "      <th></th>\n",
       "      <th></th>\n",
       "      <th></th>\n",
       "      <th></th>\n",
       "      <th></th>\n",
       "      <th></th>\n",
       "      <th></th>\n",
       "    </tr>\n",
       "  </thead>\n",
       "  <tbody>\n",
       "    <tr>\n",
       "      <th>0</th>\n",
       "      <td>25</td>\n",
       "      <td>25</td>\n",
       "      <td>25</td>\n",
       "      <td>25</td>\n",
       "      <td>25</td>\n",
       "      <td>25</td>\n",
       "      <td>24</td>\n",
       "      <td>25</td>\n",
       "      <td>24</td>\n",
       "      <td>25</td>\n",
       "    </tr>\n",
       "    <tr>\n",
       "      <th>5</th>\n",
       "      <td>25</td>\n",
       "      <td>21</td>\n",
       "      <td>25</td>\n",
       "      <td>23</td>\n",
       "      <td>23</td>\n",
       "      <td>24</td>\n",
       "      <td>23</td>\n",
       "      <td>25</td>\n",
       "      <td>23</td>\n",
       "      <td>24</td>\n",
       "    </tr>\n",
       "    <tr>\n",
       "      <th>10</th>\n",
       "      <td>25</td>\n",
       "      <td>20</td>\n",
       "      <td>21</td>\n",
       "      <td>22</td>\n",
       "      <td>21</td>\n",
       "      <td>24</td>\n",
       "      <td>21</td>\n",
       "      <td>24</td>\n",
       "      <td>21</td>\n",
       "      <td>22</td>\n",
       "    </tr>\n",
       "    <tr>\n",
       "      <th>15</th>\n",
       "      <td>24</td>\n",
       "      <td>19</td>\n",
       "      <td>21</td>\n",
       "      <td>19</td>\n",
       "      <td>21</td>\n",
       "      <td>20</td>\n",
       "      <td>15</td>\n",
       "      <td>24</td>\n",
       "      <td>21</td>\n",
       "      <td>21</td>\n",
       "    </tr>\n",
       "    <tr>\n",
       "      <th>20</th>\n",
       "      <td>23</td>\n",
       "      <td>18</td>\n",
       "      <td>20</td>\n",
       "      <td>19</td>\n",
       "      <td>20</td>\n",
       "      <td>19</td>\n",
       "      <td>15</td>\n",
       "      <td>23</td>\n",
       "      <td>19</td>\n",
       "      <td>17</td>\n",
       "    </tr>\n",
       "    <tr>\n",
       "      <th>25</th>\n",
       "      <td>22</td>\n",
       "      <td>18</td>\n",
       "      <td>18</td>\n",
       "      <td>19</td>\n",
       "      <td>18</td>\n",
       "      <td>17</td>\n",
       "      <td>13</td>\n",
       "      <td>23</td>\n",
       "      <td>18</td>\n",
       "      <td>16</td>\n",
       "    </tr>\n",
       "    <tr>\n",
       "      <th>30</th>\n",
       "      <td>22</td>\n",
       "      <td>16</td>\n",
       "      <td>17</td>\n",
       "      <td>18</td>\n",
       "      <td>15</td>\n",
       "      <td>15</td>\n",
       "      <td>12</td>\n",
       "      <td>23</td>\n",
       "      <td>17</td>\n",
       "      <td>15</td>\n",
       "    </tr>\n",
       "    <tr>\n",
       "      <th>35</th>\n",
       "      <td>22</td>\n",
       "      <td>14</td>\n",
       "      <td>12</td>\n",
       "      <td>17</td>\n",
       "      <td>15</td>\n",
       "      <td>14</td>\n",
       "      <td>9</td>\n",
       "      <td>21</td>\n",
       "      <td>15</td>\n",
       "      <td>14</td>\n",
       "    </tr>\n",
       "    <tr>\n",
       "      <th>40</th>\n",
       "      <td>21</td>\n",
       "      <td>14</td>\n",
       "      <td>10</td>\n",
       "      <td>15</td>\n",
       "      <td>15</td>\n",
       "      <td>12</td>\n",
       "      <td>9</td>\n",
       "      <td>20</td>\n",
       "      <td>12</td>\n",
       "      <td>14</td>\n",
       "    </tr>\n",
       "    <tr>\n",
       "      <th>45</th>\n",
       "      <td>21</td>\n",
       "      <td>13</td>\n",
       "      <td>9</td>\n",
       "      <td>11</td>\n",
       "      <td>13</td>\n",
       "      <td>11</td>\n",
       "      <td>7</td>\n",
       "      <td>20</td>\n",
       "      <td>11</td>\n",
       "      <td>14</td>\n",
       "    </tr>\n",
       "  </tbody>\n",
       "</table>\n",
       "</div>"
      ],
      "text/plain": [
       "Drug Regimen  Capomulin  Ceftamin  Infubinol  Ketapril  Naftisol  Placebo  \\\n",
       "Time (days)                                                                 \n",
       "0                    25        25         25        25        25       25   \n",
       "5                    25        21         25        23        23       24   \n",
       "10                   25        20         21        22        21       24   \n",
       "15                   24        19         21        19        21       20   \n",
       "20                   23        18         20        19        20       19   \n",
       "25                   22        18         18        19        18       17   \n",
       "30                   22        16         17        18        15       15   \n",
       "35                   22        14         12        17        15       14   \n",
       "40                   21        14         10        15        15       12   \n",
       "45                   21        13          9        11        13       11   \n",
       "\n",
       "Drug Regimen  Propriva  Ramicane  Stelasyn  Zoniferol  \n",
       "Time (days)                                            \n",
       "0                   24        25        24         25  \n",
       "5                   23        25        23         24  \n",
       "10                  21        24        21         22  \n",
       "15                  15        24        21         21  \n",
       "20                  15        23        19         17  \n",
       "25                  13        23        18         16  \n",
       "30                  12        23        17         15  \n",
       "35                   9        21        15         14  \n",
       "40                   9        20        12         14  \n",
       "45                   7        20        11         14  "
      ]
     },
     "execution_count": 429,
     "metadata": {},
     "output_type": "execute_result"
    }
   ],
   "source": [
    "drugmicecounts = (cleandata.copy().groupby([\"Drug Regimen\",\"Time (days)\"]) # Group the data by timepoints for each drug regimen\n",
    "                  .agg({\"Mouse ID\":'count'})# Return the number of mice alive at each timepoint\n",
    "                  .unstack().T.droplevel(0,0) # Improve the format of the output\n",
    "                 )\n",
    "drugmicecounts"
   ]
  },
  {
   "cell_type": "markdown",
   "id": "28796e5f",
   "metadata": {},
   "source": [
    "### **Data Visualization**\n",
    "#### Plotting survival rates using matplotlib"
   ]
  },
  {
   "cell_type": "code",
   "execution_count": 430,
   "id": "62843a9c",
   "metadata": {},
   "outputs": [
    {
     "data": {
      "image/png": "[encoded data removed]",
      "text/plain": [
       "<Figure size 864x576 with 1 Axes>"
      ]
     },
     "metadata": {
      "needs_background": "light"
     },
     "output_type": "display_data"
    }
   ],
   "source": [
    "# Generation of a list to use for x-axis ticks\n",
    "x2 = np.arange(len(drugmicecounts))*12+4\n",
    "\n",
    "# Declare variable to use for column width\n",
    "width = 1\n",
    "\n",
    "# Generate a figure with a flexible number data inputs\n",
    "fig1, ax = plt.subplots(figsize = (12,8))\n",
    "\n",
    "# Select and plot each column of data, specifying the location to plot on the x-axis\n",
    "plt.xticks(ticks =x2+4.5, labels = drugmicecounts.index,fontsize =10)\n",
    "capomulinbar = ax.bar(x2, drugmicecounts[\"Capomulin\"],width, label = 'Capomulin')\n",
    "ceftaminbar = ax.bar(x2+1,drugmicecounts['Ceftamin'],width, label = 'Ceftamin')\n",
    "infubinolbar = ax.bar(x2+2,drugmicecounts['Infubinol'],width, label = 'Infubinol')\n",
    "ketaprilbar = ax.bar(x2+3,drugmicecounts['Ketapril'],width, label = 'Ketapril')\n",
    "naftisolbar = ax.bar(x2+4,drugmicecounts['Naftisol'],width, label = 'Naftisol')\n",
    "placebobar = ax.bar(x2+5,drugmicecounts['Placebo'],width, label = 'Placebo')\n",
    "proprivabar = ax.bar(x2+6,drugmicecounts['Propriva'],width, label = \"Propriva\")\n",
    "ramicanebar = ax.bar(x2+7,drugmicecounts['Ramicane'],width, label = 'Ramicane')\n",
    "stelasynbar = ax.bar(x2+8,drugmicecounts['Stelasyn'],width, label = 'Stelasyn')\n",
    "zoniferol= ax.bar(x2+9,drugmicecounts['Zoniferol'],width, label = 'Zoniferol')\n",
    "leg = plt.legend(loc = \"lower left\", title = \"Drug Regimen\")\n",
    "# improve formating\n",
    "plt.title(\"Capomulin and Ramicane Show Promise in Treating Skin Cancer\",fontsize=18)\n",
    "plt.ylabel(\"Mice Remaining\", fontsize =12)\n",
    "plt.xlabel(\"Time (days)\", fontsize =12)\n",
    "\n",
    "# Save figure to file\n",
    "plt.savefig(\"Images\\SurvivalRates_Matplotlib\")"
   ]
  },
  {
   "cell_type": "markdown",
   "id": "5772022c",
   "metadata": {},
   "source": [
    "#### Creating the same plot using pandas"
   ]
  },
  {
   "cell_type": "code",
   "execution_count": 431,
   "id": "3e64e4fc",
   "metadata": {},
   "outputs": [
    {
     "data": {
      "image/png": "[encoded data removed]",
      "text/plain": [
       "<Figure size 864x576 with 1 Axes>"
      ]
     },
     "metadata": {
      "needs_background": "light"
     },
     "output_type": "display_data"
    }
   ],
   "source": [
    "# Plot the entire dataframe as a bar chart\n",
    "drugmicecounts.plot.bar(figsize = (12,8),width = 0.8)\n",
    "\n",
    "# Improve formating\n",
    "plt.title(\"Capomulin and Ramicane Show Promise in Treating Skin Cancer\",fontsize=18)\n",
    "plt.ylabel(\"Mice Remaining\", fontsize =12)\n",
    "plt.xlabel(\"Time (days)\", fontsize =12)\n",
    "plt.legend(loc = 'lower left', title = \"Drug Regimen\")\n",
    "\n",
    "# Save figure to file\n",
    "plt.savefig(\"Images\\SurvivalRates_Pandas\")"
   ]
  },
  {
   "cell_type": "markdown",
   "id": "d1ea76d8",
   "metadata": {},
   "source": [
    "#### Alternate bar chart format that is much easier to follow"
   ]
  },
  {
   "cell_type": "code",
   "execution_count": 526,
   "id": "38497e91",
   "metadata": {},
   "outputs": [
    {
     "data": {
      "image/png": "[encoded data removed]",
      "text/plain": [
       "<Figure size 864x576 with 1 Axes>"
      ]
     },
     "metadata": {
      "needs_background": "light"
     },
     "output_type": "display_data"
    }
   ],
   "source": [
    "# Plot the entire data frame as a stacked horizontal bar chart\n",
    "drugmicecounts.plot.barh(stacked = True,width =0.8,figsize = (12, 8))\n",
    "\n",
    "# Improve formating\n",
    "plt.title(\"Capomulin and Ramicane Show Promise in Treating Skin Cancer\",fontsize=18, fontweight = 'bold')\n",
    "plt.xlabel(\"Mice Remaining\", fontsize =16)\n",
    "plt.ylabel(\"Time (days)\", fontsize =16)\n",
    "plt.legend(prop = {'size': 16})\n",
    "\n",
    "# Save figure to file\n",
    "plt.savefig(\"Images\\SurvivalRatesStackedBar\")"
   ]
  },
  {
   "cell_type": "markdown",
   "id": "374ddd8b",
   "metadata": {},
   "source": [
    "## **Number of Unique Mice in Each Cohort**"
   ]
  },
  {
   "cell_type": "markdown",
   "id": "9edef9aa",
   "metadata": {},
   "source": [
    "## **Data Analysis**"
   ]
  },
  {
   "cell_type": "markdown",
   "id": "f6535b96",
   "metadata": {},
   "source": [
    "#### Determine the number of unique mouse ID's in each drug regimen"
   ]
  },
  {
   "cell_type": "code",
   "execution_count": 433,
   "id": "422b10f5",
   "metadata": {},
   "outputs": [
    {
     "data": {
      "text/html": [
       "<div>\n",
       "<style scoped>\n",
       "    .dataframe tbody tr th:only-of-type {\n",
       "        vertical-align: middle;\n",
       "    }\n",
       "\n",
       "    .dataframe tbody tr th {\n",
       "        vertical-align: top;\n",
       "    }\n",
       "\n",
       "    .dataframe thead th {\n",
       "        text-align: right;\n",
       "    }\n",
       "</style>\n",
       "<table border=\"1\" class=\"dataframe\">\n",
       "  <thead>\n",
       "    <tr style=\"text-align: right;\">\n",
       "      <th></th>\n",
       "      <th>Mouse ID</th>\n",
       "    </tr>\n",
       "    <tr>\n",
       "      <th>Drug Regimen</th>\n",
       "      <th></th>\n",
       "    </tr>\n",
       "  </thead>\n",
       "  <tbody>\n",
       "    <tr>\n",
       "      <th>Capomulin</th>\n",
       "      <td>25</td>\n",
       "    </tr>\n",
       "    <tr>\n",
       "      <th>Ceftamin</th>\n",
       "      <td>25</td>\n",
       "    </tr>\n",
       "    <tr>\n",
       "      <th>Infubinol</th>\n",
       "      <td>25</td>\n",
       "    </tr>\n",
       "    <tr>\n",
       "      <th>Ketapril</th>\n",
       "      <td>25</td>\n",
       "    </tr>\n",
       "    <tr>\n",
       "      <th>Naftisol</th>\n",
       "      <td>25</td>\n",
       "    </tr>\n",
       "    <tr>\n",
       "      <th>Placebo</th>\n",
       "      <td>25</td>\n",
       "    </tr>\n",
       "    <tr>\n",
       "      <th>Ramicane</th>\n",
       "      <td>25</td>\n",
       "    </tr>\n",
       "    <tr>\n",
       "      <th>Zoniferol</th>\n",
       "      <td>25</td>\n",
       "    </tr>\n",
       "    <tr>\n",
       "      <th>Propriva</th>\n",
       "      <td>24</td>\n",
       "    </tr>\n",
       "    <tr>\n",
       "      <th>Stelasyn</th>\n",
       "      <td>24</td>\n",
       "    </tr>\n",
       "  </tbody>\n",
       "</table>\n",
       "</div>"
      ],
      "text/plain": [
       "              Mouse ID\n",
       "Drug Regimen          \n",
       "Capomulin           25\n",
       "Ceftamin            25\n",
       "Infubinol           25\n",
       "Ketapril            25\n",
       "Naftisol            25\n",
       "Placebo             25\n",
       "Ramicane            25\n",
       "Zoniferol           25\n",
       "Propriva            24\n",
       "Stelasyn            24"
      ]
     },
     "metadata": {},
     "output_type": "display_data"
    }
   ],
   "source": [
    "uniquemice = cleandata.copy().groupby('Drug Regimen').nunique()[\"Mouse ID\"].to_frame().sort_values('Mouse ID', ascending = False)\n",
    "display(uniquemice)"
   ]
  },
  {
   "cell_type": "markdown",
   "id": "560aadae",
   "metadata": {},
   "source": [
    "### **Data Visualization**"
   ]
  },
  {
   "cell_type": "markdown",
   "id": "bf5ecd34",
   "metadata": {},
   "source": [
    "#### Plot the data using matplotlib"
   ]
  },
  {
   "cell_type": "code",
   "execution_count": 434,
   "id": "cf90477c",
   "metadata": {},
   "outputs": [
    {
     "data": {
      "image/png": "[encoded data removed]",
      "text/plain": [
       "<Figure size 864x576 with 1 Axes>"
      ]
     },
     "metadata": {
      "needs_background": "light"
     },
     "output_type": "display_data"
    }
   ],
   "source": [
    "# Declare variable to use for column width\n",
    "width = 0.8\n",
    "\n",
    "# Generate a figure with a flexible number data inputs\n",
    "fig1, ax = plt.subplots(figsize = (12,8))\n",
    "\n",
    "# Select and plot each column of data, specifying the location to plot on the x-axis\n",
    "plt.xticks(ticks =[1,2,3,4,5,6,7,8,9,10], labels = uniquemice.index,fontsize =10)\n",
    "capomulinbar = ax.bar(1, uniquemice.T[\"Capomulin\"],width, label = 'Capomulin',color = 'tab:blue')\n",
    "ceftaminbar = ax.bar(2,uniquemice.T['Ceftamin'],width, label = 'Ceftamin',color = 'tab:blue')\n",
    "infubinolbar = ax.bar(3,uniquemice.T['Infubinol'],width, label = 'Infubinol',color = 'tab:blue')\n",
    "ketaprilbar = ax.bar(4,uniquemice.T['Ketapril'],width, label = 'Ketapril',color = 'tab:blue')\n",
    "naftisolbar = ax.bar(5,uniquemice.T['Naftisol'],width, label = 'Naftisol',color = 'tab:blue')\n",
    "placebobar = ax.bar(6,uniquemice.T['Placebo'],width, label = 'Placebo',color = 'tab:blue')\n",
    "ramicanebar = ax.bar(7,uniquemice.T['Ramicane'],width, label = 'Ramicane',color = 'tab:blue')\n",
    "zoniferol= ax.bar(8,uniquemice.T['Zoniferol'],width, label = 'Zoniferol',color = 'tab:blue')\n",
    "proprivabar = ax.bar(9,uniquemice.T['Propriva'],width, label = \"Propriva\",color = 'tab:blue')\n",
    "stelasynbar = ax.bar(10,uniquemice.T['Stelasyn'],width, label = 'Stelasyn',color = 'tab:blue')\n",
    "\n",
    "# improve formating\n",
    "plt.title(\"Population Distibution for Mice in a Skin Cancer Study\",fontsize=18)\n",
    "plt.ylabel(\"Cohort Size\", fontsize =12)\n",
    "\n",
    "# Save figure to file\n",
    "plt.savefig(\"Images\\CohortPopulations_Matplotlib\")"
   ]
  },
  {
   "cell_type": "markdown",
   "id": "a3e11c91",
   "metadata": {},
   "source": [
    "#### The same chart created with pandas"
   ]
  },
  {
   "cell_type": "code",
   "execution_count": 435,
   "id": "a3ed0759",
   "metadata": {},
   "outputs": [
    {
     "data": {
      "image/png": "[encoded data removed]",
      "text/plain": [
       "<Figure size 864x576 with 1 Axes>"
      ]
     },
     "metadata": {
      "needs_background": "light"
     },
     "output_type": "display_data"
    }
   ],
   "source": [
    "# Plot the data\n",
    "uniquemice.plot(kind = 'bar',figsize =(12,8), width = 0.8, legend = False, rot = 0)\n",
    "\n",
    "# Impove the formatting\n",
    "plt.title(\"Population Distibution for Mice in a Skin Cancer Study\",fontsize=18)\n",
    "plt.ylabel(\"Cohort Size\", fontsize =12)\n",
    "plt.xlabel('')\n",
    "\n",
    "# Save figure to file\n",
    "plt.savefig(\"Images\\CohortPopulations_Pandas\")"
   ]
  },
  {
   "cell_type": "markdown",
   "id": "9dbd6c53",
   "metadata": {},
   "source": [
    "## **Number of Measurements Taken for each Cohort**"
   ]
  },
  {
   "cell_type": "markdown",
   "id": "9770344b",
   "metadata": {},
   "source": [
    "### **Data Analysis**"
   ]
  },
  {
   "cell_type": "code",
   "execution_count": 436,
   "id": "4dc9cd63",
   "metadata": {},
   "outputs": [
    {
     "data": {
      "text/html": [
       "<div>\n",
       "<style scoped>\n",
       "    .dataframe tbody tr th:only-of-type {\n",
       "        vertical-align: middle;\n",
       "    }\n",
       "\n",
       "    .dataframe tbody tr th {\n",
       "        vertical-align: top;\n",
       "    }\n",
       "\n",
       "    .dataframe thead th {\n",
       "        text-align: right;\n",
       "    }\n",
       "</style>\n",
       "<table border=\"1\" class=\"dataframe\">\n",
       "  <thead>\n",
       "    <tr style=\"text-align: right;\">\n",
       "      <th></th>\n",
       "      <th>Mouse ID</th>\n",
       "    </tr>\n",
       "    <tr>\n",
       "      <th>Drug Regimen</th>\n",
       "      <th></th>\n",
       "    </tr>\n",
       "  </thead>\n",
       "  <tbody>\n",
       "    <tr>\n",
       "      <th>Capomulin</th>\n",
       "      <td>230</td>\n",
       "    </tr>\n",
       "    <tr>\n",
       "      <th>Ramicane</th>\n",
       "      <td>228</td>\n",
       "    </tr>\n",
       "    <tr>\n",
       "      <th>Ketapril</th>\n",
       "      <td>188</td>\n",
       "    </tr>\n",
       "    <tr>\n",
       "      <th>Naftisol</th>\n",
       "      <td>186</td>\n",
       "    </tr>\n",
       "    <tr>\n",
       "      <th>Zoniferol</th>\n",
       "      <td>182</td>\n",
       "    </tr>\n",
       "    <tr>\n",
       "      <th>Placebo</th>\n",
       "      <td>181</td>\n",
       "    </tr>\n",
       "    <tr>\n",
       "      <th>Stelasyn</th>\n",
       "      <td>181</td>\n",
       "    </tr>\n",
       "    <tr>\n",
       "      <th>Ceftamin</th>\n",
       "      <td>178</td>\n",
       "    </tr>\n",
       "    <tr>\n",
       "      <th>Infubinol</th>\n",
       "      <td>178</td>\n",
       "    </tr>\n",
       "    <tr>\n",
       "      <th>Propriva</th>\n",
       "      <td>148</td>\n",
       "    </tr>\n",
       "  </tbody>\n",
       "</table>\n",
       "</div>"
      ],
      "text/plain": [
       "              Mouse ID\n",
       "Drug Regimen          \n",
       "Capomulin          230\n",
       "Ramicane           228\n",
       "Ketapril           188\n",
       "Naftisol           186\n",
       "Zoniferol          182\n",
       "Placebo            181\n",
       "Stelasyn           181\n",
       "Ceftamin           178\n",
       "Infubinol          178\n",
       "Propriva           148"
      ]
     },
     "metadata": {},
     "output_type": "display_data"
    }
   ],
   "source": [
    "cohortmeasurements = cleandata.copy().groupby(\"Drug Regimen\").count()['Mouse ID'].to_frame().sort_values('Mouse ID', ascending = False)\n",
    "display(cohortmeasurements)"
   ]
  },
  {
   "cell_type": "markdown",
   "id": "08590b68",
   "metadata": {},
   "source": [
    "### **Data Visualization**"
   ]
  },
  {
   "cell_type": "markdown",
   "id": "ae6ae87c",
   "metadata": {},
   "source": [
    "#### Using matplotlib to display the data"
   ]
  },
  {
   "cell_type": "code",
   "execution_count": 437,
   "id": "3e470b8d",
   "metadata": {},
   "outputs": [
    {
     "data": {
      "image/png": "[encoded data removed]",
      "text/plain": [
       "<Figure size 864x576 with 1 Axes>"
      ]
     },
     "metadata": {
      "needs_background": "light"
     },
     "output_type": "display_data"
    }
   ],
   "source": [
    "# Declare variable to use for column width\n",
    "width = 0.8\n",
    "\n",
    "# Generate a figure with a flexible number data inputs\n",
    "fig1, ax = plt.subplots(figsize = (12,8))\n",
    "\n",
    "# Select and plot each column of data, specifying the location to plot on the x-axis\n",
    "plt.xticks(ticks =[1,2,3,4,5,6,7,8,9,10], labels = uniquemice.index,fontsize =10)\n",
    "capomulinbar = ax.bar(1, cohortmeasurements.T[\"Capomulin\"],width, label = 'Capomulin',color = 'tab:blue')\n",
    "ramicanebar = ax.bar(2, cohortmeasurements.T['Ramicane'],width, label = 'Ramicane',color = 'tab:blue')\n",
    "ketaprilbar = ax.bar(3, cohortmeasurements.T['Ketapril'],width, label = 'Ketapril',color = 'tab:blue')\n",
    "naftisolbar = ax.bar(4, cohortmeasurements.T['Naftisol'],width, label = 'Naftisol',color = 'tab:blue')\n",
    "zoniferol= ax.bar(5, cohortmeasurements.T['Zoniferol'],width, label = 'Zoniferol',color = 'tab:blue')\n",
    "placebobar = ax.bar(6, cohortmeasurements.T['Placebo'],width, label = 'Placebo',color = 'tab:blue')\n",
    "stelasynbar = ax.bar(7, cohortmeasurements.T['Stelasyn'],width, label = 'Stelasyn',color = 'tab:blue')\n",
    "ceftaminbar = ax.bar(8, cohortmeasurements.T['Ceftamin'],width, label = 'Ceftamin',color = 'tab:blue')\n",
    "infubinolbar = ax.bar(9, cohortmeasurements.T['Infubinol'],width, label = 'Infubinol',color = 'tab:blue')\n",
    "proprivabar = ax.bar(10, cohortmeasurements.T['Propriva'],width, label = \"Propriva\",color = 'tab:blue')\n",
    "\n",
    "# Improve formating\n",
    "plt.title(\"Tumor Volume (mm3) Measurements for each Cohort\",fontsize=18)\n",
    "plt.ylabel(\"Total Number of Measurements\", fontsize =12)\n",
    "\n",
    "# Save figure to file\n",
    "plt.savefig(\"Images\\TumorMeasurements_Matplotlib\")"
   ]
  },
  {
   "cell_type": "markdown",
   "id": "9bf635ef",
   "metadata": {},
   "source": [
    "#### Creating the same plot with pandas"
   ]
  },
  {
   "cell_type": "code",
   "execution_count": 438,
   "id": "1506b8f1",
   "metadata": {},
   "outputs": [
    {
     "data": {
      "image/png": "[encoded data removed]",
      "text/plain": [
       "<Figure size 864x576 with 1 Axes>"
      ]
     },
     "metadata": {
      "needs_background": "light"
     },
     "output_type": "display_data"
    }
   ],
   "source": [
    "# Generate the bar plot\n",
    "cohortmeasurements.plot(kind='bar', figsize = (12,8),legend = False, width = 0.8, rot=0)\n",
    "\n",
    "# Improve formating\n",
    "plt.title(\"Tumor Volume (mm3) Measurements for each Cohort\",fontsize=18)\n",
    "plt.ylabel(\"Total Number of Measurements\", fontsize =12)\n",
    "plt.xlabel('')\n",
    "\n",
    "# Save figure to file\n",
    "plt.savefig(\"Images\\TumorMeasurements_Pandas\")"
   ]
  },
  {
   "cell_type": "markdown",
   "id": "eeb199e9",
   "metadata": {},
   "source": [
    "## **Gender Demographics for Study Participants**"
   ]
  },
  {
   "cell_type": "code",
   "execution_count": 450,
   "id": "1ed9b513",
   "metadata": {},
   "outputs": [
    {
     "data": {
      "text/plain": [
       "Sex\n",
       "Female    123\n",
       "Male      125\n",
       "Name: Mouse ID, dtype: int64"
      ]
     },
     "execution_count": 450,
     "metadata": {},
     "output_type": "execute_result"
    }
   ],
   "source": [
    "gendermice= cleandata.copy().groupby('Sex').nunique()[\"Mouse ID\"]\n",
    "gendermice"
   ]
  },
  {
   "cell_type": "markdown",
   "id": "c4ddeb09",
   "metadata": {},
   "source": [
    "#### Pie chart generated using matplotlit "
   ]
  },
  {
   "cell_type": "code",
   "execution_count": 444,
   "id": "ae53b011",
   "metadata": {},
   "outputs": [
    {
     "data": {
      "image/png": "[encoded data removed]",
      "text/plain": [
       "<Figure size 432x288 with 1 Axes>"
      ]
     },
     "metadata": {},
     "output_type": "display_data"
    }
   ],
   "source": [
    "plt.pie(gendermice,labels =[\"Female\",\"Male\"],autopct=\"%1.2f%%\")\n",
    "plt.title(\"Gender Demographics for All Study Participants\")\n",
    "\n",
    "# Save figure to file\n",
    "plt.savefig(\"Images\\GenderDemographics_Matplotlib\")"
   ]
  },
  {
   "cell_type": "markdown",
   "id": "d73e5c79",
   "metadata": {},
   "source": [
    "#### Creating the same chart with pandas"
   ]
  },
  {
   "cell_type": "code",
   "execution_count": 451,
   "id": "93a5aa82",
   "metadata": {},
   "outputs": [
    {
     "data": {
      "image/png": "[encoded data removed]",
      "text/plain": [
       "<Figure size 432x288 with 1 Axes>"
      ]
     },
     "metadata": {},
     "output_type": "display_data"
    }
   ],
   "source": [
    "gendermice.plot(kind = \"pie\",autopct=\"%1.2f%%\", ylabel = \"\")\n",
    "plt.title(\"Gender Demographics for All Study Participants\")\n",
    "\n",
    "# Save figure to file\n",
    "plt.savefig(\"Images\\GenderDemographics_Pandas\")"
   ]
  },
  {
   "cell_type": "markdown",
   "id": "18f2b78e",
   "metadata": {},
   "source": [
    "## **Final Tumor Volume Comparison for the Top Four Drug Treatments**"
   ]
  },
  {
   "cell_type": "markdown",
   "id": "667ae6d7",
   "metadata": {},
   "source": [
    "### **Data Analysis**\n",
    "#### Determination of the spread for each cohort"
   ]
  },
  {
   "cell_type": "code",
   "execution_count": 452,
   "id": "d054fdbc",
   "metadata": {},
   "outputs": [
    {
     "data": {
      "text/html": [
       "<div>\n",
       "<style scoped>\n",
       "    .dataframe tbody tr th:only-of-type {\n",
       "        vertical-align: middle;\n",
       "    }\n",
       "\n",
       "    .dataframe tbody tr th {\n",
       "        vertical-align: top;\n",
       "    }\n",
       "\n",
       "    .dataframe thead th {\n",
       "        text-align: right;\n",
       "    }\n",
       "</style>\n",
       "<table border=\"1\" class=\"dataframe\">\n",
       "  <thead>\n",
       "    <tr style=\"text-align: right;\">\n",
       "      <th></th>\n",
       "      <th>q1</th>\n",
       "      <th>q3</th>\n",
       "      <th>IQR</th>\n",
       "    </tr>\n",
       "    <tr>\n",
       "      <th>Drug Regimen</th>\n",
       "      <th></th>\n",
       "      <th></th>\n",
       "      <th></th>\n",
       "    </tr>\n",
       "  </thead>\n",
       "  <tbody>\n",
       "    <tr>\n",
       "      <th>Capomulin</th>\n",
       "      <td>32.377357</td>\n",
       "      <td>40.159220</td>\n",
       "      <td>7.781863</td>\n",
       "    </tr>\n",
       "    <tr>\n",
       "      <th>Ramicane</th>\n",
       "      <td>31.560470</td>\n",
       "      <td>40.659006</td>\n",
       "      <td>9.098537</td>\n",
       "    </tr>\n",
       "    <tr>\n",
       "      <th>Infubinol</th>\n",
       "      <td>54.048608</td>\n",
       "      <td>65.525743</td>\n",
       "      <td>11.477135</td>\n",
       "    </tr>\n",
       "    <tr>\n",
       "      <th>Ceftamin</th>\n",
       "      <td>48.722078</td>\n",
       "      <td>64.299830</td>\n",
       "      <td>15.577752</td>\n",
       "    </tr>\n",
       "  </tbody>\n",
       "</table>\n",
       "</div>"
      ],
      "text/plain": [
       "                     q1         q3        IQR\n",
       "Drug Regimen                                 \n",
       "Capomulin     32.377357  40.159220   7.781863\n",
       "Ramicane      31.560470  40.659006   9.098537\n",
       "Infubinol     54.048608  65.525743  11.477135\n",
       "Ceftamin      48.722078  64.299830  15.577752"
      ]
     },
     "execution_count": 452,
     "metadata": {},
     "output_type": "execute_result"
    }
   ],
   "source": [
    "# Determine the last day a given mouse\n",
    "mouselast = cleandata.copy().groupby([\"Drug Regimen\",\"Mouse ID\"]).agg({\"Time (days)\":\"last\"})\n",
    "\n",
    "# create functions to return 1st and 3rd quartiles, these will be used with .agg()\n",
    "def q1(x):\n",
    "    return x.quantile(.25)\n",
    "def q3(x):\n",
    "    return x.quantile(.75)\n",
    "\n",
    "# Use the mouselast data table to pull the final tumor volume for each mouse from the raw data\n",
    "finalvolume = pd.merge(mouselast,cleandata,on = [\"Mouse ID\",\"Time (days)\"], how = \"left\")\n",
    "\n",
    "# Determination of final tumor volume quartiles for each treatment regimen\n",
    "drugquartiles = (finalvolume.groupby(\"Drug Regimen\")\n",
    "                 .agg({\"Tumor Volume (mm3)\":[q1,q3]})\n",
    "                 .droplevel(0,1))\n",
    "             \n",
    "# Calulcation of the IQR \n",
    "drugquartiles[\"IQR\"] = drugquartiles[\"q3\"] - drugquartiles[\"q1\"]\n",
    "\n",
    "# Select only the top four drug treatments\n",
    "topdrugs = drugquartiles.T[[\"Capomulin\", \"Ramicane\",\"Infubinol\",\"Ceftamin\"]].T\n",
    "topdrugs"
   ]
  },
  {
   "cell_type": "markdown",
   "id": "6f101906",
   "metadata": {},
   "source": [
    "#### Check for, and report, any outliers for each cohort"
   ]
  },
  {
   "cell_type": "code",
   "execution_count": 453,
   "id": "6ae4f2c4",
   "metadata": {},
   "outputs": [
    {
     "name": "stdout",
     "output_type": "stream",
     "text": [
      "36.3213458 is an outlier for the drug Infubinol\n"
     ]
    }
   ],
   "source": [
    "# combine information on final tumor volume for each drug regigmen\n",
    "volumeoutliers = pd.merge(finalvolume, topdrugs,on = \"Drug Regimen\")\n",
    "\n",
    "# Determination of upper and lower bounds\n",
    "volumeoutliers['Lower Bound'] = volumeoutliers[\"q1\"] - 1.5 * volumeoutliers[\"IQR\"]\n",
    "volumeoutliers['Upper Bound'] = volumeoutliers[\"q3\"] + 1.5 * volumeoutliers[\"IQR\"]\n",
    "\n",
    "# Check for and report and values outside of the bounds \n",
    "# These will be the outliers\n",
    "for rows in range(len(volumeoutliers)):\n",
    "    a = volumeoutliers.iloc[rows,6] < volumeoutliers.iloc[rows,11]\n",
    "    b = volumeoutliers.iloc[rows,6] > volumeoutliers.iloc[rows,12] \n",
    "    if a == True or b == True:\n",
    "        print(f'{volumeoutliers.iloc[rows,6]} is an outlier for the drug {volumeoutliers.iloc[rows,2]}')"
   ]
  },
  {
   "cell_type": "markdown",
   "id": "a08182aa",
   "metadata": {},
   "source": [
    "### **Data Visualization**\n",
    "#### Prepare data for plotting"
   ]
  },
  {
   "cell_type": "code",
   "execution_count": 498,
   "id": "1b9bdcf2",
   "metadata": {},
   "outputs": [],
   "source": [
    "boxdata = (finalvolume.groupby([\"Drug Regimen\",\"Mouse ID\"]) # Group mice by drug regimen\n",
    "           .agg({\"Tumor Volume (mm3)\":'first'}) # Return final tumor volume for each mouse ID\n",
    "           .unstack().T.reset_index()) # Sort data into columns for plotting\n",
    "\n",
    "# Separate data into variables for each drug regimen\n",
    "capomulin_tumors = boxdata[\"Capomulin\"].dropna().reset_index(drop = True)\n",
    "ramicane_tumors = boxdata[\"Ramicane\"].dropna().reset_index(drop = True)\n",
    "infubinol_tumors = boxdata[\"Infubinol\"].dropna().reset_index(drop = True)\n",
    "ceftamin_tumors = boxdata[\"Ceftamin\"].dropna().reset_index(drop = True)\n",
    "placebo_tumors = boxdata[\"Placebo\"].dropna().reset_index(drop = True)"
   ]
  },
  {
   "cell_type": "markdown",
   "id": "a3b793a0",
   "metadata": {},
   "source": [
    "#### Generate box and whisker plots using matplotlib"
   ]
  },
  {
   "cell_type": "code",
   "execution_count": 527,
   "id": "28a49fd5",
   "metadata": {},
   "outputs": [
    {
     "data": {
      "image/png": "[encoded data removed]",
      "text/plain": [
       "<Figure size 864x576 with 1 Axes>"
      ]
     },
     "metadata": {
      "needs_background": "light"
     },
     "output_type": "display_data"
    }
   ],
   "source": [
    "# Generate the figure\n",
    "fig, ax = plt.subplots(figsize = (12,8))\n",
    "ax.boxplot([ramicane_tumors,capomulin_tumors,ceftamin_tumors,infubinol_tumors,placebo_tumors],flierprops = {'markerfacecolor':'r',\"markersize\":'12'})\n",
    "\n",
    "# Improve formatting\n",
    "ax.set_xticklabels(['Ramicane','Capomulin','Ceftamin','Infubinol','Placebo'],fontsize = \"16\")\n",
    "ax.set_ylabel(\"Final Tumor Volume (mm3)\", fontsize = \"16\")\n",
    "plt.title(\"Drug Effectiveness on Suppressing Tumor Growth\",fontsize =20, fontweight = 'bold')\n",
    "startingpoint = plt.plot([0,1,2,3,4,5,6],[45,45,45,45,45,45,45],\"green\")\n",
    "plt.xlim(0.5,5.5)\n",
    "plt.legend(startingpoint,[\"Initial Tumor Volume (mm3)\"], loc = 'lower right', prop = {'size' : 16})\n",
    "\n",
    "# Save figure to file\n",
    "plt.savefig(\"Images\\TumorSizeBoxPlot\")"
   ]
  },
  {
   "cell_type": "markdown",
   "id": "f14472db",
   "metadata": {},
   "source": [
    "## **Individual Tumor Response to the Capomulin Drug Treatment**"
   ]
  },
  {
   "cell_type": "markdown",
   "id": "45da8c74",
   "metadata": {},
   "source": [
    "### **Data Analysis**\n",
    "#### Select tumor volume data, all timepoints, all mice, grouped by drug treatment regimen"
   ]
  },
  {
   "cell_type": "code",
   "execution_count": 461,
   "id": "5f64f3f5",
   "metadata": {},
   "outputs": [],
   "source": [
    "mousetimedata = (cleandata.copy().groupby([\"Drug Regimen\",\"Mouse ID\", \"Time (days)\"])\n",
    "                 .agg({\"Tumor Volume (mm3)\":\"first\"})\n",
    "                 .unstack()# Separate drug regimens into separate columns\n",
    "                ) "
   ]
  },
  {
   "cell_type": "markdown",
   "id": "0cf316b5",
   "metadata": {},
   "source": [
    "#### Select a single mouse from the capomulin treatment"
   ]
  },
  {
   "cell_type": "code",
   "execution_count": 462,
   "id": "905440bc",
   "metadata": {},
   "outputs": [],
   "source": [
    "capomulinmice = mousetimedata.T[\"Capomulin\"]\n",
    "singlemouse = capomulinmice.copy().iloc[:,0].to_frame().droplevel(0,0)"
   ]
  },
  {
   "cell_type": "markdown",
   "id": "29418fc8",
   "metadata": {},
   "source": [
    "### **Data Visualization**"
   ]
  },
  {
   "cell_type": "code",
   "execution_count": 500,
   "id": "67c089b5",
   "metadata": {},
   "outputs": [
    {
     "data": {
      "image/png": "[encoded data removed]",
      "text/plain": [
       "<Figure size 432x288 with 1 Axes>"
      ]
     },
     "metadata": {
      "needs_background": "light"
     },
     "output_type": "display_data"
    }
   ],
   "source": [
    "# Plot the entire dataframe with pandas\n",
    "singlemouse.plot(kind =\"line\",title = \"Case Study: b128, Capomulin Treatment Regimen\",ylabel = \"Tumor Volume (mm3)\", legend = False)\n",
    "\n",
    "# Save figure to file\n",
    "plt.savefig(\"Images\\CaseStudyb128\")"
   ]
  },
  {
   "cell_type": "markdown",
   "id": "9578e18f",
   "metadata": {},
   "source": [
    "## **Determination of Average Tumor Density**\n",
    "### **Data Analysis**"
   ]
  },
  {
   "cell_type": "markdown",
   "id": "61c9e235",
   "metadata": {},
   "source": [
    "#### Collect average tumor volume for each mouse in the capomulin drug regimen"
   ]
  },
  {
   "cell_type": "code",
   "execution_count": 501,
   "id": "36ab133b",
   "metadata": {},
   "outputs": [],
   "source": [
    "capomulintumors = (cleandata.copy().groupby([\"Drug Regimen\",\"Mouse ID\"]) # group data by drug regimen and mouse ID\n",
    "                   .agg({\"Tumor Volume (mm3)\":\"mean\",\"Weight (g)\":'first'}) # return mouse weight and average tumor volume\n",
    "                   .T[\"Capomulin\"].T # Select data from the capomulin drug regimen only\n",
    "                  .rename(columns = {\"Tumor Volume (mm3)\":\"Average Tumor Volume (mm3)\"})) # label column to represent new meaning\n",
    "\n",
    "test = cleandata.copy().groupby(\"Mouse ID\").mean()[\"Tumor Volume (mm3)\"]"
   ]
  },
  {
   "cell_type": "markdown",
   "id": "af0093e2",
   "metadata": {},
   "source": [
    "### **Data Visualization**"
   ]
  },
  {
   "cell_type": "markdown",
   "id": "d074b3b1",
   "metadata": {},
   "source": [
    "#### Prepare data for plotting"
   ]
  },
  {
   "cell_type": "code",
   "execution_count": 502,
   "id": "132b9320",
   "metadata": {},
   "outputs": [],
   "source": [
    "# separate data columns into variables for plotting\n",
    "xaxis = capomulintumors[\"Average Tumor Volume (mm3)\"]\n",
    "yaxis = capomulintumors[\"Weight (g)\"]\n",
    "\n",
    "# perform linear regression on average tumor volume and mouse weight, prepare variables to receive this information\n",
    "(m,b,rvalue,pvalue,stderr) = st.linregress(xaxis,yaxis)\n",
    "\n",
    "# create  variable to plot linear regression data \n",
    "linearfit = m * xaxis + b\n",
    "\n",
    "# check for correlation between mouse weight and average tumor volume\n",
    "densitycorrelation = st.pearsonr(capomulintumors['Average Tumor Volume (mm3)'],\n",
    "                                 capomulintumors[\"Weight (g)\"])"
   ]
  },
  {
   "cell_type": "markdown",
   "id": "bc69419e",
   "metadata": {},
   "source": [
    "#### Generate a scatter plot using pandas, plot the linear regression line on top of this data"
   ]
  },
  {
   "cell_type": "code",
   "execution_count": 523,
   "id": "abdc3f0b",
   "metadata": {},
   "outputs": [
    {
     "data": {
      "image/png": "[encoded data removed]",
      "text/plain": [
       "<Figure size 864x576 with 1 Axes>"
      ]
     },
     "metadata": {
      "needs_background": "light"
     },
     "output_type": "display_data"
    }
   ],
   "source": [
    "# Generate the plot with the linear=\n",
    "(capomulintumors.plot.scatter('Average Tumor Volume (mm3)',\"Weight (g)\", figsize = (12,8))\n",
    " .plot(xaxis,linearfit,\"green\")\n",
    ")\n",
    "\n",
    "# Improve formatting\n",
    "regressioneq = \"Y = \" + str(round(m,2)) + \"x + \" + str(round(b,2))\n",
    "plt.annotate(regressioneq,(42,16),fontsize = 18)\n",
    "plt.annotate(f'There is a strong correlation of {round(densitycorrelation[0],2)} between these values',(37,15),fontsize = 16)\n",
    "plt.title(\"Density Comparisons for Mice in the Capomulin Drug Regimen\",fontsize =20)\n",
    "\n",
    "\n",
    "# Save figure to file\n",
    "plt.savefig(\"Images\\CapomulinDensityLinearRegression\")"
   ]
  }
 ],
 "metadata": {
  "kernelspec": {
   "display_name": "Python 3",
   "language": "python",
   "name": "python3"
  },
  "language_info": {
   "codemirror_mode": {
    "name": "ipython",
    "version": 3
   },
   "file_extension": ".py",
   "mimetype": "text/x-python",
   "name": "python",
   "nbconvert_exporter": "python",
   "pygments_lexer": "ipython3",
   "version": "3.8.8"
  }
 },
 "nbformat": 4,
 "nbformat_minor": 5
}
